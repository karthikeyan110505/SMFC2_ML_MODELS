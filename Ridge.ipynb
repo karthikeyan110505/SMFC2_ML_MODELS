{
 "cells": [
  {
   "cell_type": "code",
   "execution_count": null,
   "id": "828e778f-004b-4b54-9af7-61da90888563",
   "metadata": {},
   "outputs": [],
   "source": [
    "#Import Libraries\n",
    "\n",
    "import pandas as pd\n",
    "import numpy as np\n",
    "import matplotlib.pyplot as plt\n",
    "from sklearn.linear_model import Ridge\n",
    "from sklearn.preprocessing import StandardScaler\n",
    "from sklearn.metrics import mean_squared_error, r2_score\n",
    "import seaborn as sns"
   ]
  },
  {
   "cell_type": "code",
   "execution_count": null,
   "id": "a9624a8b-eb13-4f27-843e-dab774772203",
   "metadata": {},
   "outputs": [],
   "source": [
    "# --- Load data ---\n",
    "df = pd.read_csv('chn1(1).csv', encoding='utf-8-sig')\n",
    "df = df.reset_index(drop=True)\n",
    "step_seconds = 300\n",
    "df['ElapsedSeconds'] = np.arange(len(df)) * step_seconds"
   ]
  },
  {
   "cell_type": "code",
   "execution_count": null,
   "id": "30332c34-64bc-41c7-be64-1325bdc916e9",
   "metadata": {},
   "outputs": [],
   "source": [
    "# --- Only keep the last N points (focus on recent rise/drop) ---\n",
    "N_recent = 30  # About last 2.5 hours # N can be adjusted accordingly\n",
    "df_recent = df.iloc[-N_recent:].copy()\n",
    "df_recent = df_recent.reset_index(drop=True)"
   ]
  },
  {
   "cell_type": "code",
   "execution_count": null,
   "id": "9fa3e40f-83c8-4978-a155-984ba536dbae",
   "metadata": {},
   "outputs": [],
   "source": [
    "# --- Feature engineering ---\n",
    "max_lag = 10\n",
    "for lag in range(1, max_lag+1):\n",
    "    df_recent[f'lag_{lag}'] = df_recent['chn_1'].shift(lag)\n",
    "for w in [3, 7, max_lag]:\n",
    "    df_recent[f'roll{w}_mean'] = df_recent['chn_1'].rolling(w).mean()\n",
    "    df_recent[f'roll{w}_std'] = df_recent['chn_1'].rolling(w).std()\n",
    "\n",
    "def rolling_slope(x):\n",
    "    idx = np.arange(len(x))\n",
    "    if len(x) < 2:\n",
    "        return 0\n",
    "    coef = np.polyfit(idx, x, 1)\n",
    "    return coef[0]\n",
    "\n",
    "trend_window = 7\n",
    "df_recent['roll_trend'] = df_recent['chn_1'].rolling(trend_window).apply(rolling_slope, raw=True)\n",
    "\n",
    "df_recent = df_recent.dropna().reset_index(drop=True)\n",
    "\n",
    "feature_cols = [c for c in df_recent.columns if c not in ['Time','chn_1']]\n",
    "X = df_recent[feature_cols]\n",
    "y = df_recent['chn_1']"
   ]
  },
  {
   "cell_type": "code",
   "execution_count": null,
   "id": "dbfceac9-44e8-4045-894c-2bf7bf7ecfe2",
   "metadata": {},
   "outputs": [],
   "source": [
    "# --- Scaling ---\n",
    "scaler = StandardScaler()\n",
    "X_scaled = scaler.fit_transform(X)"
   ]
  },
  {
   "cell_type": "code",
   "execution_count": null,
   "id": "7b4eac58-cff6-406c-a842-8c90478db2fa",
   "metadata": {},
   "outputs": [],
   "source": [
    "# --- Train-test split ---\n",
    "split_idx = int(len(df_recent)*0.8)\n",
    "X_train, X_test = X_scaled[:split_idx], X_scaled[split_idx:]\n",
    "y_train, y_test = y.iloc[:split_idx], y.iloc[split_idx:]"
   ]
  },
  {
   "cell_type": "code",
   "execution_count": null,
   "id": "f213e9a1-e379-46e7-8a6c-66ff8108ea12",
   "metadata": {},
   "outputs": [],
   "source": [
    "# --- Ridge regression ---\n",
    "model = Ridge()\n",
    "model.fit(X_train, y_train)\n",
    "\n",
    "y_pred_train = model.predict(X_train)\n",
    "y_pred_test = model.predict(X_test)\n",
    "y_pred_all = model.predict(X_scaled)"
   ]
  },
  {
   "cell_type": "code",
   "execution_count": null,
   "id": "104efc4a-70a2-4017-a7da-4fa8e1ec7266",
   "metadata": {},
   "outputs": [],
   "source": [
    "# --- Print R2 and MSE ---\n",
    "overall_r2 = r2_score(y, y_pred_all)\n",
    "overall_mse = mean_squared_error(y, y_pred_all)\n",
    "print(f\"Overall R2: {overall_r2:.4f}\")\n",
    "print(f\"Overall MSE: {overall_mse:.6f}\")\n",
    "\n",
    "# --- Print correlations ---\n",
    "train_corr = np.corrcoef(y_train, y_pred_train)[0,1]\n",
    "test_corr = np.corrcoef(y_test, y_pred_test)[0,1]\n",
    "print(f\"Train set correlation: {train_corr:.4f}\")\n",
    "print(f\"Test set correlation:  {test_corr:.4f}\")"
   ]
  },
  {
   "cell_type": "code",
   "execution_count": null,
   "id": "492d747b-58fa-49ce-b306-24486a5b914b",
   "metadata": {},
   "outputs": [],
   "source": [
    "# --- Visualize train/test correlation ---\n",
    "plt.figure(figsize=(10,4))\n",
    "plt.subplot(1,2,1)\n",
    "plt.scatter(y_train, y_pred_train, alpha=0.8, color='b')\n",
    "plt.xlabel(\"True (train)\")\n",
    "plt.ylabel(\"Predicted (train)\")\n",
    "plt.title(f\"Train correlation: {train_corr:.3f}\")\n",
    "\n",
    "plt.subplot(1,2,2)\n",
    "plt.scatter(y_test, y_pred_test, alpha=0.8, color='g')\n",
    "plt.xlabel(\"True (test)\")\n",
    "plt.ylabel(\"Predicted (test)\")\n",
    "plt.title(f\"Test correlation: {test_corr:.3f}\")\n",
    "plt.tight_layout()\n",
    "plt.show()"
   ]
  },
  {
   "cell_type": "code",
   "execution_count": null,
   "id": "174fbb2b-6a38-494e-bb27-5f7551370336",
   "metadata": {},
   "outputs": [],
   "source": [
    "# --- Predict future 2 hrs (24 steps) ---\n",
    "future_steps = 24\n",
    "future_rows = []\n",
    "last_known = df_recent.iloc[-1:].copy()\n",
    "for i in range(future_steps):\n",
    "    new_row = last_known.copy()\n",
    "    new_row['ElapsedSeconds'] += step_seconds\n",
    "    # Shift lags\n",
    "    for lag in range(max_lag, 1, -1):\n",
    "        new_row[f'lag_{lag}'] = new_row[f'lag_{lag-1}']\n",
    "    new_row['lag_1'] = last_known['chn_1'].values[0]\n",
    "    # Rolling features\n",
    "    recent_vals = [new_row[f'lag_{k}'].values[0] for k in range(1, max_lag+1)]\n",
    "    for w in [3, 7, max_lag]:\n",
    "        vals = recent_vals[:w]\n",
    "        new_row[f'roll{w}_mean'] = np.mean(vals)\n",
    "        new_row[f'roll{w}_std'] = np.std(vals)\n",
    "    trend_vals = [new_row[f'lag_{k}'].values[0] for k in range(1, trend_window+1)]\n",
    "    new_row['roll_trend'] = rolling_slope(np.array(trend_vals[::-1]))\n",
    "    X_future = scaler.transform(new_row[feature_cols])\n",
    "    pred = model.predict(X_future)[0]\n",
    "    new_row['chn_1'] = pred\n",
    "    future_rows.append(new_row)\n",
    "    last_known = new_row\n",
    "\n",
    "future_df = pd.concat(future_rows, ignore_index=True)"
   ]
  },
  {
   "cell_type": "code",
   "execution_count": null,
   "id": "8c942b85-5d83-45d5-9a77-c5fd63490f28",
   "metadata": {},
   "outputs": [],
   "source": [
    "# --- Print future voltages with Time (minutes) and Voltage ---\n",
    "out_df = pd.DataFrame({\n",
    "    'Time (min)': future_df['ElapsedSeconds']/60,\n",
    "    'Predicted_Voltage': future_df['chn_1']\n",
    "})\n",
    "print(\"\\nFuture voltage prediction:\")\n",
    "print(out_df.to_string(index=False))"
   ]
  },
  {
   "cell_type": "code",
   "execution_count": null,
   "id": "1cddf552-c914-44d0-9e81-7c2032b85eb4",
   "metadata": {},
   "outputs": [],
   "source": [
    "# --- Plot ---\n",
    "plt.figure(figsize=(15,7))\n",
    "plt.plot(df['ElapsedSeconds']/60, df['chn_1'], 'b.-', label='All Historical')\n",
    "plt.plot(df_recent['ElapsedSeconds']/60, df_recent['chn_1'], 'go-', label='Recent (Training & Test)')\n",
    "plt.plot(future_df['ElapsedSeconds']/60, future_df['chn_1'], 'rx--', label='Predicted Future (2hr)')\n",
    "plt.xlabel('Elapsed Time (minutes)')\n",
    "plt.ylabel('Voltage (chn_1)')\n",
    "plt.title(f'Soil MFC Voltage: Ridge with Trend Feature')\n",
    "plt.legend()\n",
    "plt.grid()\n",
    "plt.tight_layout()\n",
    "plt.show()\n",
    "\n",
    "# Select only numeric columns for correlation\n",
    "corr_features = df_recent[[c for c in df_recent.columns if c not in ['Time']]]\n",
    "\n",
    "plt.figure(figsize=(12, 10))\n",
    "sns.heatmap(corr_features.corr(), annot=True, fmt=\".2f\", cmap=\"coolwarm\")\n",
    "plt.title(\"Feature Correlation Heatmap\")\n",
    "plt.tight_layout()\n",
    "plt.show()"
   ]
  }
 ],
 "metadata": {
  "kernelspec": {
   "display_name": "Python 3 (ipykernel)",
   "language": "python",
   "name": "python3"
  },
  "language_info": {
   "codemirror_mode": {
    "name": "ipython",
    "version": 3
   },
   "file_extension": ".py",
   "mimetype": "text/x-python",
   "name": "python",
   "nbconvert_exporter": "python",
   "pygments_lexer": "ipython3",
   "version": "3.13.3"
  }
 },
 "nbformat": 4,
 "nbformat_minor": 5
}
